{
 "cells": [
  {
   "cell_type": "raw",
   "id": "c9237ab8",
   "metadata": {},
   "source": [
    "---\n",
    "title: \"Antibodies - Case Study\"\n",
    "teaching: 10\n",
    "exercises: 2\n",
    "---"
   ]
  },
  {
   "cell_type": "markdown",
   "id": "12080c18",
   "metadata": {},
   "source": [
    "\n",
    "- How may we create a machine learning classifier that can tell apart two groups of proteins?\n",
    "\n",
    "- How may we improve upon the performance of a machine learning classifier that does not perform so well?\n",
    "\n",
    "- How may we check for overfitting in a trained machine learning classifier?\n",
    "\n",
    "- How may we pick the most relevant data points that are related to the class of a sample?\n",
    "\n",
    "- Can we also train a deep learning predictor to tell proteins apart?\n"
   ]
  },
  {
   "cell_type": "markdown",
   "id": "1a232ba9",
   "metadata": {},
   "source": [
    "- Understand how protein sequences can become readable to machine learning predictors\n",
    "\n",
    "- Practise machine learning optimisation techniques including GridSearchCV and dimensionality reduction\n",
    "\n",
    "- Check for overfitted data by testing with a totally naive dataset\n",
    "\n",
    "- Pracitse prediction by applying a deep learning model to the problem and evaluating its performance\n",
    "\n",
    "## Separating Mouse and Human Antibody Sequences using Protein Encoding and Machine Learning Classifiers\n",
    "\n",
    "\n",
    "\n",
    "\n",
    "\n"
   ]
  },
  {
   "cell_type": "markdown",
   "id": "9e890d6f",
   "metadata": {},
   "source": [
    "- Protein sequences must be numerically encoded to be readable by machine learning algorithms.\n",
    "\n",
    "- It is sometimes necessary to experiment with different machine learning classifiers or hyperparameterisation techniques, to achieve the best prediction results.\n",
    "\n",
    "- Check the performance of your model with a \"held back\" dataset which was not included in the training set.\n"
   ]
  },
  {
   "cell_type": "markdown",
   "id": "e5933186",
   "metadata": {},
   "source": [
    "[r-markdown]: https://rmarkdown.rstudio.com/"
   ]
  }
 ],
 "metadata": {
  "jupytext": {
   "cell_metadata_filter": "-all",
   "main_language": "python",
   "notebook_metadata_filter": "-all"
  }
 },
 "nbformat": 4,
 "nbformat_minor": 5
}
